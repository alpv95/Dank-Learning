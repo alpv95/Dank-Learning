{
 "cells": [
  {
   "cell_type": "code",
   "execution_count": 1,
   "metadata": {},
   "outputs": [
    {
     "name": "stdout",
     "output_type": "stream",
     "text": [
      "Automatic pdb calling has been turned ON\n"
     ]
    }
   ],
   "source": [
    "import urllib, os, sys, zipfile\n",
    "from os.path import dirname\n",
    "import numpy as np\n",
    "import tensorflow as tf\n",
    "from tensorflow.core.framework import graph_pb2\n",
    "from tensorflow.python.tools.freeze_graph import freeze_graph\n",
    "import tfcoreml\n",
    "import inference_wrapper\n",
    "import configuration\n",
    "from coremltools.proto import NeuralNetwork_pb2\n",
    "from PIL import Image\n",
    "%pdb on"
   ]
  },
  {
   "cell_type": "code",
   "execution_count": 2,
   "metadata": {},
   "outputs": [],
   "source": [
    "checkpoint_file = './trainlogIncNEW/model.ckpt-1000000'\n",
    "pre_frozen_model_file = './frozen_model_textgenNEW.pb'\n",
    "frozen_model_file = './frozen_model_textgenNEW.pb'\n",
    "#output_node_names = ['lstm/initial_state']\n",
    "output_node_names = ['softmax','lstm/state',\n",
    "'lstm/basic_lstm_cell/concat_1',\n",
    "#'lstm/basic_lstm_cell/einsum/MatMul',\n",
    "'lstm__basic_lstm_cell__einsum__Reshape__0',\n",
    "'lstm__basic_lstm_cell__einsum_1__Reshape__0',\n",
    "#'lstm/basic_lstm_cell/einsum_1/MatMul',\n",
    "'lstm__basic_lstm_cell__einsum__Reshape_1__0',\n",
    " 'lstm__basic_lstm_cell__einsum_1__Reshape_1__0',                    \n",
    "'lstm/basic_lstm_cell/concat_2']\n",
    "# output_node_names = ['lstm/split']\n",
    "# original_output_node_names = ['softmax','lstm/state']\n",
    "# input_node_names = ['image_feed', 'seq_embeddings','lstm/state_feed']\n",
    "#input_node_names = ['image_feed']\n",
    "input_node_names = ['seq_embeddings','lstm/state_feed']\n",
    "beam_size = 2"
   ]
  },
  {
   "cell_type": "code",
   "execution_count": 3,
   "metadata": {},
   "outputs": [
    {
     "name": "stdout",
     "output_type": "stream",
     "text": [
      "INFO:tensorflow:Building model.\n",
      "About to decide if splitting\n",
      "new_h Tensor(\"lstm/basic_lstm_cell/Mul_2:0\", shape=(1, 512), dtype=float32)\n",
      "new_state LSTMStateTuple(c=<tf.Tensor 'lstm/basic_lstm_cell/Add_1:0' shape=(1, 512) dtype=float32>, h=<tf.Tensor 'lstm/basic_lstm_cell/Mul_2:0' shape=(1, 512) dtype=float32>)\n",
      "About to decide if splitting\n",
      "It's splitting\n",
      "gate_inputs0 Tensor(\"lstm/basic_lstm_cell/einsum/Reshape_1:0\", shape=(1, 1, 2048), dtype=float32)\n",
      "gate_inputs1 Tensor(\"lstm/basic_lstm_cell/einsum_1/Reshape_1:0\", shape=(1, 1, 2048), dtype=float32)\n",
      "squeeze Tensor(\"lstm/basic_lstm_cell/Squeeze:0\", shape=(812,), dtype=float32)\n",
      "<tf.Variable 'lstm/basic_lstm_cell/kernel:0' shape=(812, 2048) dtype=float32_ref>\n",
      "gate_inputs Tensor(\"lstm/basic_lstm_cell/concat_2:0\", shape=(1, 2, 2048), dtype=float32)\n",
      "new_h Tensor(\"lstm/basic_lstm_cell/Mul_5:0\", shape=(1, 2, 512), dtype=float32)\n",
      "new_state LSTMStateTuple(c=<tf.Tensor 'lstm/basic_lstm_cell/Add_3:0' shape=(1, 2, 512) dtype=float32>, h=<tf.Tensor 'lstm/basic_lstm_cell/Mul_5:0' shape=(1, 2, 512) dtype=float32>)\n",
      "lstm_outputs Tensor(\"lstm/basic_lstm_cell/Mul_5:0\", shape=(1, 2, 512), dtype=float32)\n",
      "state_output LSTMStateTuple(c=<tf.Tensor 'lstm/basic_lstm_cell/Add_3:0' shape=(1, 2, 512) dtype=float32>, h=<tf.Tensor 'lstm/basic_lstm_cell/Mul_5:0' shape=(1, 2, 512) dtype=float32>)\n",
      "BUILDING DENSE\n",
      "MATMUL(TENSORDOT) w/ SPLITTING\n"
     ]
    }
   ],
   "source": [
    "# Build the inference graph.\n",
    "g = tf.Graph()\n",
    "with g.as_default():\n",
    "    model = inference_wrapper.InferenceWrapper()\n",
    "    restore_fn = model.build_graph_from_config(configuration.ModelConfig(),\n",
    "                                               checkpoint_file)\n",
    "g.finalize()"
   ]
  },
  {
   "cell_type": "code",
   "execution_count": 4,
   "metadata": {},
   "outputs": [
    {
     "data": {
      "text/plain": [
       "47083161"
      ]
     },
     "execution_count": 4,
     "metadata": {},
     "output_type": "execute_result"
    }
   ],
   "source": [
    "# Write the graph\n",
    "tf_model_path = './log/pre_graph_textgenNEW.pb'\n",
    "tf.train.write_graph(\n",
    "    g,\n",
    "    './log',\n",
    "    'pre_graph_textgenNEW.pb',\n",
    "    as_text=False,\n",
    ")\n",
    "\n",
    "with open(tf_model_path, 'rb') as f:\n",
    "    serialized = f.read()\n",
    "tf.reset_default_graph()\n",
    "original_gdef = tf.GraphDef()\n",
    "original_gdef.ParseFromString(serialized)"
   ]
  },
  {
   "cell_type": "code",
   "execution_count": 5,
   "metadata": {},
   "outputs": [],
   "source": [
    "from tensorflow.python.tools import strip_unused_lib\n",
    "from tensorflow.python.framework import dtypes\n",
    "from tensorflow.python.platform import gfile\n",
    "\n",
    "gdef = strip_unused_lib.strip_unused(\n",
    "        input_graph_def = original_gdef,\n",
    "        input_node_names = input_node_names,\n",
    "        output_node_names = output_node_names,\n",
    "        placeholder_type_enum = dtypes.float32.as_datatype_enum)\n",
    "# Save it to an output file\n",
    "with gfile.GFile(pre_frozen_model_file, 'wb') as f:\n",
    "    f.write(gdef.SerializeToString())"
   ]
  },
  {
   "cell_type": "code",
   "execution_count": 6,
   "metadata": {},
   "outputs": [
    {
     "name": "stdout",
     "output_type": "stream",
     "text": [
      "INFO:tensorflow:Restoring parameters from ./trainlogIncNEW/model.ckpt-1000000\n",
      "INFO:tensorflow:Froze 4 variables.\n",
      "Converted 4 variables to const ops.\n"
     ]
    }
   ],
   "source": [
    "# Call freeze graph\n",
    "freeze_graph(input_graph=pre_frozen_model_file,\n",
    "             input_saver='',\n",
    "             input_binary=True,\n",
    "             input_checkpoint=checkpoint_file,\n",
    "             output_node_names=','.join(output_node_names),\n",
    "             restore_op_name='save/restore_all',\n",
    "             filename_tensor_name='save/Const:0',\n",
    "             output_graph=frozen_model_file,\n",
    "             clear_devices=True,\n",
    "             initializer_nodes='')"
   ]
  },
  {
   "cell_type": "code",
   "execution_count": 7,
   "metadata": {},
   "outputs": [],
   "source": [
    "input_tensor_shapes = {\n",
    "     #'image_feed:0': [299, 299, 3],\n",
    "    'seq_embeddings:0': [1, beam_size, 300],\n",
    "    'lstm/state_feed:0': [1, beam_size, 1024],\n",
    "}\n",
    "coreml_model_file = './Textgen_NEW.mlmodel'\n",
    "# output_tensor_names = ['softmax:0','lstm/state:0','lstm/initial_state:0']\n",
    "# output_tensor_names = ['lstm/initial_state:0']\n",
    "output_tensor_names = [node + ':0' for node in output_node_names]"
   ]
  },
  {
   "cell_type": "code",
   "execution_count": 8,
   "metadata": {},
   "outputs": [
    {
     "name": "stdout",
     "output_type": "stream",
     "text": [
      "Shapes not found for 14 tensors. Executing graph to determine shapes. \n",
      "1/73: Analysing op name: seq_embeddings ( type:  Placeholder )\n",
      "Skipping name of placeholder\n",
      "2/73: Analysing op name: lstm/basic_lstm_cell/kernel ( type:  Const )\n",
      "3/73: Analysing op name: lstm/basic_lstm_cell/kernel/read ( type:  Identity )\n",
      "4/73: Analysing op name: lstm/basic_lstm_cell/bias ( type:  Const )\n",
      "5/73: Analysing op name: lstm/basic_lstm_cell/bias/read ( type:  Identity )\n",
      "6/73: Analysing op name: lstm/state_feed ( type:  Placeholder )\n",
      "Skipping name of placeholder\n",
      "7/73: Analysing op name: lstm/split/split_dim ( type:  Const )\n",
      "8/73: Analysing op name: lstm/split ( type:  Split )\n",
      "9/73: Analysing op name: lstm/basic_lstm_cell/concat_1/axis ( type:  Const )\n",
      "10/73: Analysing op name: lstm/basic_lstm_cell/concat_1 ( type:  ConcatV2 )\n",
      "11/73: Analysing op name: lstm/basic_lstm_cell/split_1/split_dim ( type:  Const )\n",
      "12/73: Analysing op name: lstm/basic_lstm_cell/split_1 ( type:  Split )\n",
      "13/73: Analysing op name: lstm/basic_lstm_cell/einsum/Reshape/shape ( type:  Const )\n",
      "14/73: Analysing op name: lstm/basic_lstm_cell/einsum/Reshape ( type:  Reshape )\n",
      "15/73: Analysing op name: lstm/basic_lstm_cell/einsum/MatMul ( type:  MatMul )\n",
      "16/73: Analysing op name: lstm/basic_lstm_cell/einsum/Reshape_1/shape ( type:  Const )\n",
      "17/73: Analysing op name: lstm/basic_lstm_cell/einsum/Reshape_1 ( type:  Reshape )\n",
      "18/73: Analysing op name: lstm/basic_lstm_cell/einsum_1/Reshape/shape ( type:  Const )\n",
      "19/73: Analysing op name: lstm/basic_lstm_cell/einsum_1/Reshape ( type:  Reshape )\n",
      "20/73: Analysing op name: lstm/basic_lstm_cell/einsum_1/MatMul ( type:  MatMul )\n",
      "21/73: Analysing op name: lstm/basic_lstm_cell/einsum_1/Reshape_1/shape ( type:  Const )\n",
      "22/73: Analysing op name: lstm/basic_lstm_cell/einsum_1/Reshape_1 ( type:  Reshape )\n",
      "23/73: Analysing op name: lstm/basic_lstm_cell/concat_2/axis ( type:  Const )\n",
      "24/73: Analysing op name: lstm/basic_lstm_cell/concat_2 ( type:  ConcatV2 )\n",
      "25/73: Analysing op name: lstm/basic_lstm_cell/BiasAdd_1 ( type:  BiasAdd )\n",
      "26/73: Analysing op name: lstm/basic_lstm_cell/split_2/split_dim ( type:  Const )\n",
      "27/73: Analysing op name: lstm/basic_lstm_cell/split_2 ( type:  Split )\n",
      "28/73: Analysing op name: lstm/basic_lstm_cell/Sigmoid_4 ( type:  Sigmoid )\n",
      "29/73: Analysing op name: lstm/basic_lstm_cell/Tanh_2 ( type:  Tanh )\n",
      "30/73: Analysing op name: lstm/basic_lstm_cell/Mul_4 ( type:  Mul )\n",
      "31/73: Analysing op name: lstm/basic_lstm_cell/Sigmoid_5 ( type:  Sigmoid )\n",
      "32/73: Analysing op name: lstm/basic_lstm_cell/Const_6 ( type:  Const )\n",
      "33/73: Analysing op name: lstm/basic_lstm_cell/Add_2 ( type:  Add )\n",
      "34/73: Analysing op name: lstm/basic_lstm_cell/Sigmoid_3 ( type:  Sigmoid )\n",
      "35/73: Analysing op name: lstm/basic_lstm_cell/Mul_3 ( type:  Mul )\n",
      "36/73: Analysing op name: lstm/basic_lstm_cell/Add_3 ( type:  Add )\n",
      "37/73: Analysing op name: lstm/basic_lstm_cell/Tanh_3 ( type:  Tanh )\n",
      "38/73: Analysing op name: lstm/basic_lstm_cell/Mul_5 ( type:  Mul )\n",
      "39/73: Analysing op name: lstm/state/axis ( type:  Const )\n",
      "40/73: Analysing op name: lstm/state ( type:  ConcatV2 )\n",
      "41/73: Analysing op name: logits/weights ( type:  Const )\n",
      "42/73: Analysing op name: logits/weights/read ( type:  Identity )\n",
      "43/73: Analysing op name: logits/biases ( type:  Const )\n",
      "44/73: Analysing op name: logits/biases/read ( type:  Identity )\n",
      "45/73: Analysing op name: logits/split/split_dim ( type:  Const )\n",
      "46/73: Analysing op name: logits/split ( type:  Split )\n",
      "47/73: Analysing op name: logits/einsum/Reshape/shape ( type:  Const )\n",
      "48/73: Analysing op name: logits/einsum/Reshape ( type:  Reshape )\n",
      "49/73: Analysing op name: logits/einsum/MatMul ( type:  MatMul )\n",
      "50/73: Analysing op name: logits/einsum/Reshape_1/shape ( type:  Const )\n",
      "51/73: Analysing op name: logits/einsum/Reshape_1 ( type:  Reshape )\n",
      "52/73: Analysing op name: logits/einsum_1/Reshape/shape ( type:  Const )\n",
      "53/73: Analysing op name: logits/einsum_1/Reshape ( type:  Reshape )\n",
      "54/73: Analysing op name: logits/einsum_1/MatMul ( type:  MatMul )\n",
      "55/73: Analysing op name: logits/einsum_1/Reshape_1/shape ( type:  Const )\n",
      "56/73: Analysing op name: logits/einsum_1/Reshape_1 ( type:  Reshape )\n",
      "57/73: Analysing op name: logits/concat/axis ( type:  Const )\n",
      "58/73: Analysing op name: logits/concat ( type:  ConcatV2 )\n",
      "59/73: Analysing op name: logits/BiasAdd ( type:  BiasAdd )\n",
      "60/73: Analysing op name: Shape ( type:  Const )\n",
      "61/73: Analysing op name: Rank ( type:  Const )\n",
      "62/73: Analysing op name: Shape_1 ( type:  Const )\n",
      "63/73: Analysing op name: Sub/y ( type:  Const )\n",
      "64/73: Analysing op name: Sub ( type:  Sub )\n",
      "65/73: Analysing op name: Slice/begin ( type:  Pack )\n",
      "66/73: Analysing op name: Slice/size ( type:  Const )\n",
      "67/73: Analysing op name: Slice ( type:  Slice )\n",
      "68/73: Analysing op name: concat/values_0 ( type:  Const )\n",
      "69/73: Analysing op name: concat/axis ( type:  Const )\n",
      "70/73: Analysing op name: concat ( type:  ConcatV2 )\n",
      "71/73: Analysing op name: Reshape ( type:  Reshape )\n",
      "72/73: Analysing op name: Softmax ( type:  Softmax )\n",
      "73/73: Analysing op name: softmax ( type:  Reshape )\n",
      "\n",
      " Core ML model generated. Saved at location: ./Textgen_NEW.mlmodel \n",
      "\n",
      "Core ML input(s): \n",
      " [name: \"seq_embeddings__0\"\n",
      "type {\n",
      "  multiArrayType {\n",
      "    shape: 300\n",
      "    shape: 1\n",
      "    shape: 2\n",
      "    dataType: DOUBLE\n",
      "  }\n",
      "}\n",
      ", name: \"lstm__state_feed__0\"\n",
      "type {\n",
      "  multiArrayType {\n",
      "    shape: 1024\n",
      "    shape: 1\n",
      "    shape: 2\n",
      "    dataType: DOUBLE\n",
      "  }\n",
      "}\n",
      "]\n",
      "Core ML output(s): \n",
      " [name: \"lstm__basic_lstm_cell__einsum__Reshape__0\"\n",
      "type {\n",
      "  multiArrayType {\n",
      "    shape: 812\n",
      "    dataType: DOUBLE\n",
      "  }\n",
      "}\n",
      ", name: \"lstm__basic_lstm_cell__einsum__Reshape_1__0\"\n",
      "type {\n",
      "  multiArrayType {\n",
      "    dataType: DOUBLE\n",
      "  }\n",
      "}\n",
      ", name: \"lstm__basic_lstm_cell__einsum_1__Reshape__0\"\n",
      "type {\n",
      "  multiArrayType {\n",
      "    shape: 812\n",
      "    dataType: DOUBLE\n",
      "  }\n",
      "}\n",
      ", name: \"lstm__basic_lstm_cell__einsum_1__Reshape_1__0\"\n",
      "type {\n",
      "  multiArrayType {\n",
      "    dataType: DOUBLE\n",
      "  }\n",
      "}\n",
      ", name: \"lstm__basic_lstm_cell__concat_2__0\"\n",
      "type {\n",
      "  multiArrayType {\n",
      "    dataType: DOUBLE\n",
      "  }\n",
      "}\n",
      ", name: \"lstm__state__0\"\n",
      "type {\n",
      "  multiArrayType {\n",
      "    dataType: DOUBLE\n",
      "  }\n",
      "}\n",
      ", name: \"softmax__0\"\n",
      "type {\n",
      "  multiArrayType {\n",
      "    dataType: DOUBLE\n",
      "  }\n",
      "}\n",
      "]\n"
     ]
    }
   ],
   "source": [
    "# Call the converter\n",
    "#output_feature_names = ['lstm/basic_lstm_cell/concat_2:0']\n",
    "\n",
    "coreml_model = tfcoreml.convert(\n",
    "        tf_model_path=frozen_model_file, \n",
    "        mlmodel_path=coreml_model_file, \n",
    "        input_name_shape_dict=input_tensor_shapes,\n",
    "#         output_feature_names=output_feature_names + ['lstm/basic_lstm_cell/MatMul_1:0'],\n",
    "        output_feature_names=output_tensor_names,\n",
    "        #image_input_names = ['image_feed:0'],\n",
    "         #red_bias = -1,\n",
    "         #green_bias = -1,\n",
    "         #blue_bias = -1,\n",
    "         #image_scale = 2.0/255.0\n",
    "#         add_custom_layers=True,\n",
    "#         custom_conversion_functions={\n",
    "#             'lstm/split': _convert_split,\n",
    "#             'lstm/basic_lstm_cell/split_1': _convert_lstmsplit,\n",
    "#             'lstm/basic_lstm_cell/split': _convert_lstmsplit,\n",
    "#         },\n",
    ")"
   ]
  },
  {
   "cell_type": "code",
   "execution_count": null,
   "metadata": {},
   "outputs": [],
   "source": [
    "Image.fromarray(np.uint8(np.ones([299,299,3])*100))"
   ]
  },
  {
   "cell_type": "code",
   "execution_count": null,
   "metadata": {},
   "outputs": [],
   "source": [
    "np.random.seed(2)\n",
    "y = np.array([[[x,x]] for x in np.random.rand(300)])\n",
    "print(y[10,0,0])\n",
    "print(y[10,0,1])"
   ]
  },
  {
   "cell_type": "code",
   "execution_count": 17,
   "metadata": {},
   "outputs": [
    {
     "name": "stdout",
     "output_type": "stream",
     "text": [
      "(1, 1, 1024, 1, 2)\n",
      "(1, 1, 38521, 1, 2)\n",
      "(812,)\n"
     ]
    }
   ],
   "source": [
    "np.random.seed(2)\n",
    "seq_embeddings = np.ones([300,1,2])*0.5 #np.array([[[x,x]] for x in np.ones(300)*0.5])\n",
    "state_feed = np.ones([1024,1,2])*0.6 #np.array([[[x,x]] for x in np.ones(1024)*0.6])\n",
    "\n",
    "#image_feed = Image.fromarray(np.uint8(np.ones([299,299,3])*100)) #np.ones([3,299,299])\n",
    "coreml_inputs = {\n",
    "    'seq_embeddings__0': seq_embeddings,\n",
    "    'lstm__state_feed__0': state_feed,\n",
    "    #'image_feed__0': image_feed,\n",
    "}\n",
    "coreml_output = coreml_model.predict(coreml_inputs, useCPUOnly=True)\n",
    "# print(coreml_output['lstm__state__0'].shape)\n",
    "# print(coreml_output['softmax__0'].shape)\n",
    "# print(coreml_output['softmax__0'].reshape(38521, 1, 2))\n",
    "# print(coreml_output)\n",
    "print(coreml_output['lstm__state__0'].shape)\n",
    "print(coreml_output['softmax__0'].shape)\n",
    "print(coreml_output['lstm__basic_lstm_cell__einsum__Reshape__0'].shape)\n",
    "#print(coreml_output['lstm__initial_state__0'].shape)"
   ]
  },
  {
   "cell_type": "code",
   "execution_count": 18,
   "metadata": {},
   "outputs": [
    {
     "name": "stdout",
     "output_type": "stream",
     "text": [
      "[0.5 0.5 0.5 0.5 0.5 0.5 0.5 0.5 0.5 0.5]\n",
      "[0.60000002 0.60000002 0.60000002 0.60000002 0.60000002 0.60000002\n",
      " 0.60000002 0.60000002 0.60000002 0.60000002]\n"
     ]
    }
   ],
   "source": [
    "print(coreml_output['lstm__basic_lstm_cell__einsum__Reshape__0'][:10])\n",
    "print(coreml_output['lstm__basic_lstm_cell__einsum_1__Reshape__0'][:10])"
   ]
  },
  {
   "cell_type": "code",
   "execution_count": 12,
   "metadata": {},
   "outputs": [
    {
     "name": "stdout",
     "output_type": "stream",
     "text": [
      "-0.24074828624725342\n",
      "-0.2761119604110718\n"
     ]
    }
   ],
   "source": [
    "print(coreml_output['lstm__state__0'][0,0,10,0,0])\n",
    "print(coreml_output['lstm__state__0'][0,0,10,0,1])"
   ]
  },
  {
   "cell_type": "code",
   "execution_count": null,
   "metadata": {},
   "outputs": [],
   "source": [
    "print(coreml_output['lstm__initial_state__0'][0])\n",
    "print(coreml_output['lstm__initial_state__0'][-1])"
   ]
  },
  {
   "cell_type": "code",
   "execution_count": null,
   "metadata": {},
   "outputs": [],
   "source": [
    "print(coreml_output['lstm__state__0'][:,:,:10,:,0])"
   ]
  },
  {
   "cell_type": "code",
   "execution_count": null,
   "metadata": {},
   "outputs": [],
   "source": [
    "state_output = np.loadtxt('stateoutputTEST.txt')"
   ]
  },
  {
   "cell_type": "code",
   "execution_count": null,
   "metadata": {},
   "outputs": [],
   "source": [
    "(state_output[1,:]==coreml_output['lstm__state__0'][0,0,:,0,1])[:50]"
   ]
  },
  {
   "cell_type": "code",
   "execution_count": null,
   "metadata": {},
   "outputs": [],
   "source": [
    "print(state_output[0,377])\n",
    "print(coreml_output['lstm__state__0'][0,0,377,0,0])"
   ]
  },
  {
   "cell_type": "code",
   "execution_count": null,
   "metadata": {},
   "outputs": [],
   "source": [
    "img = np.moveaxis(np.asarray(image) / 256.0, [0, 1, 2], [1, 2, 0])"
   ]
  },
  {
   "cell_type": "code",
   "execution_count": null,
   "metadata": {},
   "outputs": [],
   "source": [
    "coreml_model"
   ]
  },
  {
   "cell_type": "code",
   "execution_count": null,
   "metadata": {},
   "outputs": [],
   "source": [
    "\"\"\" 'image_feed:0': [299, 299, 3],\n",
    "    'seq_embeddings:0': [1, 1, 300],\n",
    "    'lstm/state_feed:0': [1, 1024],\n",
    "\"\"\"\n",
    "coreml_inputs = {\n",
    "    'image_feed__0': image,\n",
    "#     'seq_embeddings__0': np.random.rand(300, 1, 1),\n",
    "#     'lstm__state_feed__0': np.random.rand(1024),\n",
    "}\n",
    "coreml_output = coreml_model.predict(coreml_inputs, useCPUOnly=True)\n",
    "print(list(coreml_output['lstm__initial_state__0'][:20]))"
   ]
  },
  {
   "cell_type": "code",
   "execution_count": null,
   "metadata": {},
   "outputs": [],
   "source": []
  },
  {
   "cell_type": "code",
   "execution_count": null,
   "metadata": {},
   "outputs": [],
   "source": []
  },
  {
   "cell_type": "code",
   "execution_count": null,
   "metadata": {},
   "outputs": [],
   "source": [
    "from IPython.display import clear_output, Image, display, HTML\n",
    "\n",
    "def strip_consts(graph_def, max_const_size=32):\n",
    "    \"\"\"Strip large constant values from graph_def.\"\"\"\n",
    "    strip_def = tf.GraphDef()\n",
    "    for n0 in graph_def.node:\n",
    "        n = strip_def.node.add() \n",
    "        n.MergeFrom(n0)\n",
    "        if n.op == 'Const':\n",
    "            tensor = n.attr['value'].tensor\n",
    "            size = len(tensor.tensor_content)\n",
    "            if size > max_const_size:\n",
    "                tensor.tensor_content = \"<stripped %d bytes>\"%size\n",
    "    return strip_def\n",
    "\n",
    "def show_graph(graph_def, max_const_size=32):\n",
    "    \"\"\"Visualize TensorFlow graph.\"\"\"\n",
    "    if hasattr(graph_def, 'as_graph_def'):\n",
    "        graph_def = graph_def.as_graph_def()\n",
    "    strip_def = strip_consts(graph_def, max_const_size=max_const_size)\n",
    "    code = \"\"\"\n",
    "        <script>\n",
    "          function load() {{\n",
    "            document.getElementById(\"{id}\").pbtxt = {data};\n",
    "          }}\n",
    "        </script>\n",
    "        <link rel=\"import\" href=\"https://tensorboard.appspot.com/tf-graph-basic.build.html\" onload=load()>\n",
    "        <div style=\"height:600px\">\n",
    "          <tf-graph-basic id=\"{id}\"></tf-graph-basic>\n",
    "        </div>\n",
    "    \"\"\".format(data=repr(str(strip_def)), id='graph'+str(np.random.rand()))\n",
    "\n",
    "    iframe = \"\"\"\n",
    "        <iframe seamless style=\"width:1000px;height:620px;border:0\" srcdoc=\"{}\"></iframe>\n",
    "    \"\"\".format(code.replace('\"', '&quot;'))\n",
    "    display(HTML(iframe))"
   ]
  },
  {
   "cell_type": "code",
   "execution_count": null,
   "metadata": {},
   "outputs": [],
   "source": [
    "show_graph(gdef)"
   ]
  },
  {
   "cell_type": "code",
   "execution_count": null,
   "metadata": {},
   "outputs": [],
   "source": []
  },
  {
   "cell_type": "code",
   "execution_count": null,
   "metadata": {},
   "outputs": [],
   "source": [
    "embeddings_bytes = embeddings.flatten().tobytes()"
   ]
  },
  {
   "cell_type": "code",
   "execution_count": null,
   "metadata": {},
   "outputs": [],
   "source": [
    "open('embeddings_bin.bin', 'wb').write(embeddings_bytes)"
   ]
  },
  {
   "cell_type": "code",
   "execution_count": null,
   "metadata": {},
   "outputs": [],
   "source": [
    "import coremltools\n",
    "read_model = coremltools.models.MLModel(coreml_model_file)\n",
    "dir(read_model)"
   ]
  },
  {
   "cell_type": "code",
   "execution_count": null,
   "metadata": {},
   "outputs": [],
   "source": [
    "import coremltools\n",
    "def print_coreml_nn_layer_info(spec):\n",
    "    nn_layers = coremltools.models.utils._get_nn_layers(spec)\n",
    "    for i, layer in enumerate(nn_layers):\n",
    "        if layer.WhichOneof('layer') == 'custom':\n",
    "            print 'layer_id = ', i\n",
    "            print layer\n",
    "        else:\n",
    "            print('{}: layer type: ({}) , inputs: {}, outputs: {}'.\n",
    "              format(i,layer.WhichOneof('layer'), \", \".join([x for x in layer.input]), \", \".join([x for x in layer.output])))\n",
    "\n",
    "print_coreml_nn_layer_info(coreml_model.get_spec())"
   ]
  },
  {
   "cell_type": "code",
   "execution_count": null,
   "metadata": {},
   "outputs": [],
   "source": [
    "# Test the model!!!\n",
    "\n",
    "import PIL\n",
    "from IPython.core.display import Image\n",
    "\n",
    "filename = '/Users/freedmand/Desktop/zelda_driving.jpg'\n",
    "with tf.gfile.GFile(filename, \"rb\") as f:\n",
    "  image = PIL.Image.open(f)\n",
    "  image = image.resize([299,299], PIL.Image.ANTIALIAS)\n",
    "    \n",
    "display(Image(filename, width=299, height=299))"
   ]
  }
 ],
 "metadata": {
  "kernelspec": {
   "display_name": "Python 2",
   "language": "python",
   "name": "python2"
  },
  "language_info": {
   "codemirror_mode": {
    "name": "ipython",
    "version": 2
   },
   "file_extension": ".py",
   "mimetype": "text/x-python",
   "name": "python",
   "nbconvert_exporter": "python",
   "pygments_lexer": "ipython2",
   "version": "2.7.3"
  }
 },
 "nbformat": 4,
 "nbformat_minor": 2
}
