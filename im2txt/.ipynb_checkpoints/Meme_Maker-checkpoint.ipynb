{
 "cells": [
  {
   "cell_type": "code",
   "execution_count": 1,
   "metadata": {},
   "outputs": [],
   "source": [
    "from __future__ import absolute_import\n",
    "from __future__ import division\n",
    "from __future__ import print_function\n",
    "from __builtin__ import any as b_any\n",
    "\n",
    "import math\n",
    "import os\n",
    "os.environ[\"CUDA_VISIBLE_DEVICES\"]=\"\"\n",
    "import numpy as np\n",
    "from PIL import Image\n",
    "\n",
    "import tensorflow as tf\n",
    "\n",
    "import configuration\n",
    "import inference_wrapper\n",
    "import sys\n",
    "sys.path.insert(0, 'im2txt/inference_utils')\n",
    "sys.path.insert(0, 'im2txt/ops')\n",
    "import caption_generator\n",
    "import image_processing\n",
    "import vocabulary\n",
    "import json"
   ]
  },
  {
   "cell_type": "code",
   "execution_count": 2,
   "metadata": {},
   "outputs": [],
   "source": [
    "current_dir = os.getcwd()\n",
    "image_dir = os.path.join(current_dir, 'templates')\n",
    "\n",
    "\n",
    "checkpoint_path=\"trainlogIncNEW\"\n",
    "vocab_file =\"vocab4.txt\"\n",
    "input_files =\"templates\"         \n",
    "\n",
    "tf.logging.set_verbosity(tf.logging.INFO)\n"
   ]
  },
  {
   "cell_type": "code",
   "execution_count": 3,
   "metadata": {},
   "outputs": [
    {
     "name": "stdout",
     "output_type": "stream",
     "text": [
      "INFO:tensorflow:Building model.\n",
      "WARNING:tensorflow:From show_and_tell_model.py:59: __init__ (from tensorflow.python.ops.io_ops) is deprecated and will be removed in a future version.\n",
      "Instructions for updating:\n",
      "Queue-based input pipelines have been replaced by `tf.data`. Use `tf.data.TFRecordDataset`.\n",
      "About to decide if splitting\n",
      "FIRST (1, 2048)\n",
      "{'num_or_size_splits': 4, 'value': <tf.Tensor 'lstm/basic_lstm_cell/BiasAdd:0' shape=(1, 2048) dtype=float32>, 'axis': 1}\n",
      "new_h Tensor(\"lstm/basic_lstm_cell/Mul_2:0\", shape=(1, 512), dtype=float32)\n",
      "new_state LSTMStateTuple(c=<tf.Tensor 'lstm/basic_lstm_cell/Add_1:0' shape=(1, 512) dtype=float32>, h=<tf.Tensor 'lstm/basic_lstm_cell/Mul_2:0' shape=(1, 512) dtype=float32>)\n",
      "About to decide if splitting\n",
      "SECOND (2, 2048)\n",
      "{'num_or_size_splits': 4, 'value': <tf.Tensor 'lstm/basic_lstm_cell/BiasAdd_1:0' shape=(2, 2048) dtype=float32>, 'axis': 1}\n",
      "new_h Tensor(\"lstm/basic_lstm_cell/Mul_5:0\", shape=(1, 2, 512), dtype=float32)\n",
      "new_state LSTMStateTuple(c=<tf.Tensor 'lstm/basic_lstm_cell/Add_3:0' shape=(1, 2, 512) dtype=float32>, h=<tf.Tensor 'lstm/basic_lstm_cell/Mul_5:0' shape=(1, 2, 512) dtype=float32>)\n",
      "lstm_outputs Tensor(\"lstm/basic_lstm_cell/Mul_5:0\", shape=(1, 2, 512), dtype=float32)\n",
      "state_output LSTMStateTuple(c=<tf.Tensor 'lstm/basic_lstm_cell/Add_3:0' shape=(1, 2, 512) dtype=float32>, h=<tf.Tensor 'lstm/basic_lstm_cell/Mul_5:0' shape=(1, 2, 512) dtype=float32>)\n",
      "BUILDING DENSE\n",
      "MATMUL(TENSORDOT) w/out SPLITTING\n"
     ]
    }
   ],
   "source": [
    "#configuration\n",
    "config = configuration.ModelConfig()\n",
    "\n",
    "g = tf.Graph()\n",
    "with g.as_default():\n",
    "    model = inference_wrapper.InferenceWrapper()\n",
    "    restore_fn = model.build_graph_from_config(config,\n",
    "                                               checkpoint_path)\n",
    "g.finalize()\n"
   ]
  },
  {
   "cell_type": "code",
   "execution_count": 4,
   "metadata": {},
   "outputs": [
    {
     "name": "stdout",
     "output_type": "stream",
     "text": [
      "INFO:tensorflow:Initializing vocabulary from file: vocab4.txt\n",
      "INFO:tensorflow:Created vocabulary with 38521 words\n"
     ]
    }
   ],
   "source": [
    "vocab = vocabulary.Vocabulary(vocab_file)\n",
    "\n",
    "with open('Captions.txt','r') as f:\n",
    "    data_captions = f.readlines()\n",
    "data_captions = [s.lower() for s in data_captions]\n",
    "  \n",
    "with open('ordered_memes.txt','r') as f:\n",
    "    ordered_memes = f.readlines()\n",
    "ordered_memes = [meme.replace('\\n','') for meme in ordered_memes]"
   ]
  },
  {
   "cell_type": "code",
   "execution_count": 6,
   "metadata": {},
   "outputs": [
    {
     "name": "stdout",
     "output_type": "stream",
     "text": [
      "['/Users/ALP/PycharmProjects/MemeProject/im2txt/templates/dogeCUSTOM.jpg']\n",
      "INFO:tensorflow:Running caption generation on 1 files matching templates\n",
      "INFO:tensorflow:Loading model from checkpoint: trainlogIncNEW/model.ckpt-1000000\n",
      "INFO:tensorflow:Restoring parameters from trainlogIncNEW/model.ckpt-1000000\n",
      "INFO:tensorflow:Successfully loaded checkpoint: model.ckpt-1000000\n",
      "Captions for image dogeCUSTOM.jpg:\n",
      "  0) wow (p=0.001610) [in data = 1]\n",
      "  1) wow wow such gay such such too much strength (p=0.000000) [in data = 0]\n",
      "number of captions in data = 1\n",
      "  0) such a debate when you sleep with me ! what will you have (p=0.000000) [in data = 0]\n",
      "  1) such a debate when you sleep with me ! what will you come from (p=0.000000) [in data = 0]\n",
      "number of captions in data = 1\n",
      "  0) wow such pussy many much (p=0.000000) [in data = 0]\n",
      "  1) wow such doom much very deep (p=0.000000) [in data = 0]\n",
      "number of captions in data = 1\n",
      "  0) very deep very scare (p=0.000000) [in data = 0]\n",
      "  1) very deep very scare and shit (p=0.000000) [in data = 0]\n",
      "number of captions in data = 1\n",
      "  0) so one (p=0.000004) [in data = 1]\n",
      "  1) so pretty ! . . delicious (p=0.000000) [in data = 0]\n",
      "number of captions in data = 2\n",
      "  0) very serious such fun much fun (p=0.000000) [in data = 0]\n",
      "  1) very pretty . much fun doge much delicious (p=0.000000) [in data = 0]\n",
      "number of captions in data = 2\n",
      "  0) no thanks (p=0.000016) [in data = 1]\n",
      "  1) no big porn ! wow , wow . . or cool (p=0.000000) [in data = 0]\n",
      "number of captions in data = 3\n",
      "  0) go to a party , or start a sandwich ? please , let me lick (p=0.000000) [in data = 0]\n",
      "  1) go to a party , or start a sandwich ? please , let me lick that cunt off (p=0.000000) [in data = 0]\n",
      "number of captions in data = 3\n",
      "  0) much wii (p=0.000025) [in data = 0]\n",
      "  1) much wii wow so cute (p=0.000000) [in data = 0]\n",
      "number of captions in data = 3\n",
      "  0) such so much swag , much work (p=0.000000) [in data = 0]\n",
      "  1) such so much swag , much work . (p=0.000000) [in data = 0]\n",
      "number of captions in data = 3\n",
      "(total number of captions in data = 3) percent in data = 0.150000\n"
     ]
    }
   ],
   "source": [
    "np.random.seed(2)\n",
    "filenames = [os.path.join(image_dir, f) for f in os.listdir(input_files) if f.endswith('.jpg')]\n",
    "print(filenames)\n",
    "tf.logging.info(\"Running caption generation on %d files matching %s\",len(filenames), input_files)\n",
    "with tf.Session(graph=g) as sess:\n",
    "    # Load the model from checkpoint.\n",
    "    restore_fn(sess)\n",
    "    \n",
    "    # Prepare the caption generator. Here we are implicitly using the default\n",
    "    # beam search parameters. See caption_generator.py for a description of the\n",
    "    # available beam search parameters.\n",
    "    generator = caption_generator.CaptionGenerator(model, vocab, beam_size=config.beam_size)\n",
    "    num_in_data_total = 0\n",
    "    num_captions = 0\n",
    "    for i,filename in enumerate(filenames):\n",
    "        with tf.gfile.GFile(filename, \"rb\") as f:\n",
    "            #image = f.read()\n",
    "            image = Image.open(f)\n",
    "            image = ((np.array(image.resize((299,299)))/255.0)-0.5)*2.0 \n",
    "        \n",
    "        print(\"Captions for image %s:\" % os.path.basename(filenames[i]))\n",
    "        num_in_data = 0\n",
    "        for k in range(10):\n",
    "            captions = generator.beam_search(sess, image)\n",
    "#         initial_state = generator.beam_search(sess, image)\n",
    "        \n",
    "#         with open(filename.replace(\"/Users/ALP/PycharmProjects/MemeProject/im2txt/templates/\", \"\")+'newIS.json', 'w') as outfile:\n",
    "#             json.dump(initial_state.reshape(1024).tolist(), outfile)\n",
    "            \n",
    "            \n",
    "            for i, caption in enumerate(captions):\n",
    "                # Ignore begin and end words.\n",
    "                sentence = [vocab.id_to_word(w) for w in caption.sentence[1:-1]]\n",
    "                sentence = \" \".join(sentence)\n",
    "                in_data = 0\n",
    "                if b_any(sentence in capt for capt in data_captions):\n",
    "                    in_data = 1\n",
    "                    num_in_data += 1\n",
    "                    num_in_data_total += 1\n",
    "                    num_captions += 1\n",
    "                else:\n",
    "                    num_captions += 1\n",
    "                print(\"  %d) %s (p=%f) [in data = %d]\" % (i, sentence, math.exp(caption.logprob),in_data))\n",
    "            print(\"number of captions in data = %d\" % (num_in_data))\n",
    "    print(\"(total number of captions in data = %d) percent in data = %f\" % (num_in_data_total,(num_in_data_total/num_captions)))"
   ]
  },
  {
   "cell_type": "code",
   "execution_count": 6,
   "metadata": {},
   "outputs": [
    {
     "name": "stdout",
     "output_type": "stream",
     "text": [
      "0.5\n",
      "0.5\n"
     ]
    }
   ],
   "source": [
    "np.random.seed(2)\n",
    "x = np.array([[np.ones([300])*0.5,np.ones([300])*0.5]])\n",
    "print(x[0,0,15])\n",
    "print(x[0,1,15])"
   ]
  },
  {
   "cell_type": "code",
   "execution_count": null,
   "metadata": {
    "collapsed": true
   },
   "outputs": [],
   "source": [
    "np.random.seed(2)\n",
    "\n",
    "seq_embeddings = np.array([[np.ones([300])*0.5,np.ones([300])*0.5]])\n",
    "state_feed = np.array([[np.ones([1024])*0.6,np.ones([1024])*0.6]])\n",
    "print(seq_embeddings[0,0,:10])\n",
    "print(seq_embeddings[0,1,:10])\n",
    "print(state_feed[0,0,:10])\n",
    "print(state_feed[0,1,:10])\n",
    "image_feed = np.ones([299,299,3])*-0.2156862745\n",
    "with tf.Session(graph=g) as sess:\n",
    "    # Load the model from checkpoint.\n",
    "    restore_fn(sess)\n",
    "    softmax, state = sess.run(\n",
    "        fetches=[\"softmax:0\", \"lstm/state:0\"],\n",
    "        #fetches=[\"lstm/initial_state:0\"],\n",
    "        feed_dict={#\"image_feed:0\": image_feed\n",
    "            #\"input_feed:0\": input_feed,\n",
    "            \"lstm/state_feed:0\": state_feed,\n",
    "            \"seq_embeddings:0\": seq_embeddings,\n",
    "            #\"seq_embedding/embedding_map:0\": self.embedding_map\n",
    "        })\n",
    "    print(state.shape)\n",
    "    #print(softmax_output.shape)"
   ]
  },
  {
   "cell_type": "code",
   "execution_count": null,
   "metadata": {
    "collapsed": true
   },
   "outputs": [],
   "source": [
    "print(state[0,1,90:100])\n",
    "print(state[0,0,90:100])"
   ]
  },
  {
   "cell_type": "code",
   "execution_count": null,
   "metadata": {
    "collapsed": true
   },
   "outputs": [],
   "source": [
    "print(initial_state_output[0][0][0])\n",
    "print(initial_state_output[0][0][-1])"
   ]
  },
  {
   "cell_type": "code",
   "execution_count": null,
   "metadata": {
    "collapsed": true
   },
   "outputs": [],
   "source": [
    "state_output[0].shape"
   ]
  },
  {
   "cell_type": "code",
   "execution_count": null,
   "metadata": {
    "collapsed": true
   },
   "outputs": [],
   "source": [
    "np.savetxt('stateoutputTEST.txt',state_output[0])"
   ]
  },
  {
   "cell_type": "code",
   "execution_count": null,
   "metadata": {
    "collapsed": true
   },
   "outputs": [],
   "source": [
    "from IPython.display import clear_output, Image, display, HTML\n",
    "\n",
    "def strip_consts(graph_def, max_const_size=32):\n",
    "    \"\"\"Strip large constant values from graph_def.\"\"\"\n",
    "    strip_def = tf.GraphDef()\n",
    "    for n0 in graph_def.node:\n",
    "        n = strip_def.node.add() \n",
    "        n.MergeFrom(n0)\n",
    "        if n.op == 'Const':\n",
    "            tensor = n.attr['value'].tensor\n",
    "            size = len(tensor.tensor_content)\n",
    "            if size > max_const_size:\n",
    "                tensor.tensor_content = \"<stripped %d bytes>\"%size\n",
    "    return strip_def\n",
    "\n",
    "def show_graph(graph_def, max_const_size=32):\n",
    "    \"\"\"Visualize TensorFlow graph.\"\"\"\n",
    "    if hasattr(graph_def, 'as_graph_def'):\n",
    "        graph_def = graph_def.as_graph_def()\n",
    "    strip_def = strip_consts(graph_def, max_const_size=max_const_size)\n",
    "    code = \"\"\"\n",
    "        <script>\n",
    "          function load() {{\n",
    "            document.getElementById(\"{id}\").pbtxt = {data};\n",
    "          }}\n",
    "        </script>\n",
    "        <link rel=\"import\" href=\"https://tensorboard.appspot.com/tf-graph-basic.build.html\" onload=load()>\n",
    "        <div style=\"height:600px\">\n",
    "          <tf-graph-basic id=\"{id}\"></tf-graph-basic>\n",
    "        </div>\n",
    "    \"\"\".format(data=repr(str(strip_def)), id='graph'+str(np.random.rand()))\n",
    "\n",
    "    iframe = \"\"\"\n",
    "        <iframe seamless style=\"width:1000px;height:620px;border:0\" srcdoc=\"{}\"></iframe>\n",
    "    \"\"\".format(code.replace('\"', '&quot;'))\n",
    "    display(HTML(iframe))"
   ]
  },
  {
   "cell_type": "code",
   "execution_count": null,
   "metadata": {
    "collapsed": true
   },
   "outputs": [],
   "source": [
    "show_graph(g)"
   ]
  },
  {
   "cell_type": "code",
   "execution_count": null,
   "metadata": {
    "collapsed": true
   },
   "outputs": [],
   "source": []
  },
  {
   "cell_type": "code",
   "execution_count": null,
   "metadata": {
    "collapsed": true
   },
   "outputs": [],
   "source": [
    "OLD_CHECKPOINT_FILE = \"trainlogSGD/model.ckpt-600000\"\n",
    "NEW_CHECKPOINT_FILE = \"trainlogSGDNEW/model.ckpt-600000\"\n",
    "\n",
    "import tensorflow as tf\n",
    "vars_to_rename = {\n",
    "    \"lstm/basic_lstm_cell/weights\": \"lstm/basic_lstm_cell/kernel\",\n",
    "    \"lstm/basic_lstm_cell/biases\": \"lstm/basic_lstm_cell/bias\",\n",
    "}\n",
    "new_checkpoint_vars = {}\n",
    "reader = tf.train.NewCheckpointReader(OLD_CHECKPOINT_FILE)\n",
    "for old_name in reader.get_variable_to_shape_map():\n",
    "  if old_name in vars_to_rename:\n",
    "    new_name = vars_to_rename[old_name]\n",
    "  else:\n",
    "    new_name = old_name\n",
    "  new_checkpoint_vars[new_name] = tf.Variable(reader.get_tensor(old_name))\n",
    "\n",
    "init = tf.global_variables_initializer()\n",
    "saver = tf.train.Saver(new_checkpoint_vars)\n",
    "\n",
    "with tf.Session() as sess:\n",
    "  sess.run(init)\n",
    "  saver.save(sess, NEW_CHECKPOINT_FILE)"
   ]
  },
  {
   "cell_type": "code",
   "execution_count": null,
   "metadata": {
    "collapsed": true
   },
   "outputs": [],
   "source": []
  }
 ],
 "metadata": {
  "kernelspec": {
   "display_name": "meme2.7",
   "language": "python",
   "name": "meme2.7"
  },
  "language_info": {
   "codemirror_mode": {
    "name": "ipython",
    "version": 2
   },
   "file_extension": ".py",
   "mimetype": "text/x-python",
   "name": "python",
   "nbconvert_exporter": "python",
   "pygments_lexer": "ipython2",
   "version": "2.7.3"
  }
 },
 "nbformat": 4,
 "nbformat_minor": 2
}
